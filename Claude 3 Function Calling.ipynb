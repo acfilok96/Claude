{
  "nbformat": 4,
  "nbformat_minor": 0,
  "metadata": {
    "colab": {
      "provenance": []
    },
    "kernelspec": {
      "name": "python3",
      "display_name": "Python 3"
    },
    "language_info": {
      "name": "python"
    }
  },
  "cells": [
    {
      "cell_type": "code",
      "execution_count": 2,
      "metadata": {
        "colab": {
          "base_uri": "https://localhost:8080/"
        },
        "id": "5ZyxxC0wSJKc",
        "outputId": "efbe76ec-cd03-4e87-8691-b52657e46c99"
      },
      "outputs": [
        {
          "output_type": "stream",
          "name": "stdout",
          "text": [
            "\u001b[2K     \u001b[90m━━━━━━━━━━━━━━━━━━━━━━━━━━━━━━━━━━━━━━━━\u001b[0m \u001b[32m848.6/848.6 kB\u001b[0m \u001b[31m13.2 MB/s\u001b[0m eta \u001b[36m0:00:00\u001b[0m\n",
            "\u001b[2K     \u001b[90m━━━━━━━━━━━━━━━━━━━━━━━━━━━━━━━━━━━━━━━━\u001b[0m \u001b[32m75.6/75.6 kB\u001b[0m \u001b[31m11.1 MB/s\u001b[0m eta \u001b[36m0:00:00\u001b[0m\n",
            "\u001b[2K     \u001b[90m━━━━━━━━━━━━━━━━━━━━━━━━━━━━━━━━━━━━━━━━\u001b[0m \u001b[32m77.8/77.8 kB\u001b[0m \u001b[31m9.5 MB/s\u001b[0m eta \u001b[36m0:00:00\u001b[0m\n",
            "\u001b[2K     \u001b[90m━━━━━━━━━━━━━━━━━━━━━━━━━━━━━━━━━━━━━━━━\u001b[0m \u001b[32m58.3/58.3 kB\u001b[0m \u001b[31m7.0 MB/s\u001b[0m eta \u001b[36m0:00:00\u001b[0m\n",
            "\u001b[?25h"
          ]
        }
      ],
      "source": [
        "!pip install -q -U anthropic yfinance rich"
      ]
    },
    {
      "cell_type": "code",
      "source": [
        "from google.colab import userdata\n",
        "ANTHROPIC_API_KEY = userdata.get('ANTHROPIC_API_KEY')"
      ],
      "metadata": {
        "id": "SY004EiwSWKY"
      },
      "execution_count": 3,
      "outputs": []
    },
    {
      "cell_type": "code",
      "source": [
        "from anthropic import Anthropic\n",
        "from rich import print\n",
        "import re\n",
        "import yfinance as yf"
      ],
      "metadata": {
        "id": "yEAEwgVfSWGx"
      },
      "execution_count": 4,
      "outputs": []
    },
    {
      "cell_type": "code",
      "source": [
        "client = Anthropic(api_key = ANTHROPIC_API_KEY)\n",
        "MODEL_NAME = \"claude-3-opus-20240229\""
      ],
      "metadata": {
        "id": "apM8MVvgShfn"
      },
      "execution_count": 6,
      "outputs": []
    },
    {
      "cell_type": "code",
      "source": [
        "stock_message = {\n",
        "    \"role\": \"user\",\n",
        "    \"content\": \"Find the current price of Apple stock\"\n",
        "}"
      ],
      "metadata": {
        "id": "-fFZb3_8ShcJ"
      },
      "execution_count": 7,
      "outputs": []
    },
    {
      "cell_type": "code",
      "source": [
        "message = client.messages.create(model = MODEL_NAME,\n",
        "                                 max_tokens = 1024,\n",
        "                                 messages = [stock_message]\n",
        "                                 ).content[0].text\n",
        "\n",
        "print(\"##### Before Function Calling ####\\n\\n\" + message)"
      ],
      "metadata": {
        "colab": {
          "base_uri": "https://localhost:8080/",
          "height": 321
        },
        "id": "ZER9uX84Shay",
        "outputId": "44925d9f-3bd1-4180-a97c-bb49fff9bcb2"
      },
      "execution_count": 8,
      "outputs": [
        {
          "output_type": "display_data",
          "data": {
            "text/plain": [
              "##### Before Function Calling ####\n",
              "\n",
              "To find the current price of Apple \u001b[1m(\u001b[0mAAPL\u001b[1m)\u001b[0m stock, you can use various financial websites or apps that provide \n",
              "real-time stock quotes. As of April \u001b[1;36m11\u001b[0m, \u001b[1;36m2023\u001b[0m, at \u001b[1;92m12:00\u001b[0m PM EST, the price of Apple stock is $\u001b[1;36m162.03\u001b[0m per share. \n",
              "However, please note that stock prices can change rapidly during trading hours, so the price may be different by \n",
              "the time you check it.\n",
              "\n",
              "Some popular financial websites to find stock quotes include:\n",
              "\n",
              "\u001b[1;36m1\u001b[0m. Google Finance: Simply search for \u001b[32m\"AAPL\"\u001b[0m or \u001b[32m\"Apple stock\"\u001b[0m on Google.\n",
              "\n",
              "\u001b[1;36m2\u001b[0m. Yahoo Finance: Visit \u001b[4;94mhttps://finance.yahoo.com/\u001b[0m and search for \u001b[32m\"AAPL\"\u001b[0m or \u001b[32m\"Apple.\"\u001b[0m\n",
              "\n",
              "\u001b[1;36m3\u001b[0m. NASDAQ: Go to \u001b[4;94mhttps://www.nasdaq.com/\u001b[0m and search for \u001b[32m\"AAPL\"\u001b[0m or \u001b[32m\"Apple Inc.\"\u001b[0m\n",
              "\n",
              "\u001b[1;36m4\u001b[0m. Bloomberg: Check \u001b[4;94mhttps://www.bloomberg.com/quote/AAPL:US\u001b[0m for the current Apple stock price.\n",
              "\n",
              "Remember that stock prices are subject to change based on various factors such as market conditions, company \n",
              "performance, and global events.\n"
            ],
            "text/html": [
              "<pre style=\"white-space:pre;overflow-x:auto;line-height:normal;font-family:Menlo,'DejaVu Sans Mono',consolas,'Courier New',monospace\">##### Before Function Calling ####\n",
              "\n",
              "To find the current price of Apple <span style=\"font-weight: bold\">(</span>AAPL<span style=\"font-weight: bold\">)</span> stock, you can use various financial websites or apps that provide \n",
              "real-time stock quotes. As of April <span style=\"color: #008080; text-decoration-color: #008080; font-weight: bold\">11</span>, <span style=\"color: #008080; text-decoration-color: #008080; font-weight: bold\">2023</span>, at <span style=\"color: #00ff00; text-decoration-color: #00ff00; font-weight: bold\">12:00</span> PM EST, the price of Apple stock is $<span style=\"color: #008080; text-decoration-color: #008080; font-weight: bold\">162.03</span> per share. \n",
              "However, please note that stock prices can change rapidly during trading hours, so the price may be different by \n",
              "the time you check it.\n",
              "\n",
              "Some popular financial websites to find stock quotes include:\n",
              "\n",
              "<span style=\"color: #008080; text-decoration-color: #008080; font-weight: bold\">1</span>. Google Finance: Simply search for <span style=\"color: #008000; text-decoration-color: #008000\">\"AAPL\"</span> or <span style=\"color: #008000; text-decoration-color: #008000\">\"Apple stock\"</span> on Google.\n",
              "\n",
              "<span style=\"color: #008080; text-decoration-color: #008080; font-weight: bold\">2</span>. Yahoo Finance: Visit <span style=\"color: #0000ff; text-decoration-color: #0000ff; text-decoration: underline\">https://finance.yahoo.com/</span> and search for <span style=\"color: #008000; text-decoration-color: #008000\">\"AAPL\"</span> or <span style=\"color: #008000; text-decoration-color: #008000\">\"Apple.\"</span>\n",
              "\n",
              "<span style=\"color: #008080; text-decoration-color: #008080; font-weight: bold\">3</span>. NASDAQ: Go to <span style=\"color: #0000ff; text-decoration-color: #0000ff; text-decoration: underline\">https://www.nasdaq.com/</span> and search for <span style=\"color: #008000; text-decoration-color: #008000\">\"AAPL\"</span> or <span style=\"color: #008000; text-decoration-color: #008000\">\"Apple Inc.\"</span>\n",
              "\n",
              "<span style=\"color: #008080; text-decoration-color: #008080; font-weight: bold\">4</span>. Bloomberg: Check <span style=\"color: #0000ff; text-decoration-color: #0000ff; text-decoration: underline\">https://www.bloomberg.com/quote/AAPL:US</span> for the current Apple stock price.\n",
              "\n",
              "Remember that stock prices are subject to change based on various factors such as market conditions, company \n",
              "performance, and global events.\n",
              "</pre>\n"
            ]
          },
          "metadata": {}
        }
      ]
    },
    {
      "cell_type": "code",
      "source": [
        "# 1. Define the stock price finding function\n",
        "def get_stock_price(ticker_symbol):\n",
        "    stock = yf.Ticker(ticker_symbol)\n",
        "    hist = stock.history(period=\"1d\")\n",
        "    current_price = hist['Close'].iloc[0]\n",
        "    return current_price"
      ],
      "metadata": {
        "id": "y02U5oPEShZN"
      },
      "execution_count": 9,
      "outputs": []
    },
    {
      "cell_type": "code",
      "source": [
        "# 2. Construct Tool description\n",
        "tool_description = \"\"\"\n",
        "<tool_description>\n",
        "    <tool_name>get_stock_price</tool_name>\n",
        "    <description>\n",
        "        Function for finding the current price of a stock using its ticker symbol.\n",
        "    </description>\n",
        "    <parameters>\n",
        "        <parameter>\n",
        "            <name>ticker_symbol</name>\n",
        "            <type>str</type>\n",
        "            <description>Ticker symbol of the stock</description>\n",
        "        </parameter>\n",
        "    </parameters>\n",
        "</tool_description>\n",
        "\"\"\""
      ],
      "metadata": {
        "id": "PcWMmEL6ShXp"
      },
      "execution_count": 10,
      "outputs": []
    },
    {
      "cell_type": "code",
      "source": [
        "# 3. Ask Claude\n",
        "system_prompt = f\"\"\"\n",
        "In this environment you have access to a set of tools you can use to answer the\n",
        "user's question.\n",
        "\n",
        "You may call them like this:\n",
        "<function_calls>\n",
        "    <invoke>\n",
        "        <tool_name>$TOOL_NAME</tool_name>\n",
        "        <parameters>\n",
        "            <$PARAMETER_NAME>$PARAMETER_VALUE</$PARAMETER_NAME>\n",
        "            ...\n",
        "        </parameters>\n",
        "    </invoke>\n",
        "</function_calls>\n",
        "\n",
        "Here are the tools available:\n",
        "<tools>{tool_description}</tools>\n",
        "\"\"\""
      ],
      "metadata": {
        "id": "Z9j2tFreShV4"
      },
      "execution_count": 11,
      "outputs": []
    },
    {
      "cell_type": "code",
      "source": [
        "function_calling_message = client.messages.create(\n",
        "    model=MODEL_NAME,\n",
        "    max_tokens=1024,\n",
        "    messages=[stock_message],\n",
        "    system=system_prompt\n",
        ").content[0].text\n",
        "\n",
        "# print(function_calling_message)\n",
        "function_calling_message"
      ],
      "metadata": {
        "colab": {
          "base_uri": "https://localhost:8080/",
          "height": 53
        },
        "id": "fGW3SCiuShUe",
        "outputId": "ceaf4ba1-5841-44fc-a16f-d7d953c8dd94"
      },
      "execution_count": 12,
      "outputs": [
        {
          "output_type": "execute_result",
          "data": {
            "text/plain": [
              "'<function_calls>\\n    <invoke>\\n        <tool_name>get_stock_price</tool_name>\\n        <parameters>\\n            <ticker_symbol>AAPL</ticker_symbol>\\n        </parameters>\\n    </invoke>\\n</function_calls>'"
            ],
            "application/vnd.google.colaboratory.intrinsic+json": {
              "type": "string"
            }
          },
          "metadata": {},
          "execution_count": 12
        }
      ]
    },
    {
      "cell_type": "code",
      "source": [
        "# 4. Extract parameters from response & call the function\n",
        "def extract_between_tags(tag, string, strip=False):\n",
        "    ext_list = re.findall(f\"<{tag}>(.+?)</{tag}>\", string, re.DOTALL)\n",
        "    return [e.strip() for e in ext_list] if strip else ext_list"
      ],
      "metadata": {
        "id": "D-Qnl_VqShSw"
      },
      "execution_count": 13,
      "outputs": []
    },
    {
      "cell_type": "code",
      "source": [
        "function_params = {\"ticker_symbol\": extract_between_tags(\"ticker_symbol\", function_calling_message)[0]}\n",
        "function_name = extract_between_tags(\"tool_name\", function_calling_message)[0]\n",
        "names_to_functions = {\n",
        "    'get_stock_price': get_stock_price,\n",
        "}\n",
        "price = names_to_functions[function_name](**function_params)"
      ],
      "metadata": {
        "id": "0amE5E3XShRA"
      },
      "execution_count": 14,
      "outputs": []
    },
    {
      "cell_type": "code",
      "source": [
        "# Construct function results\n",
        "function_results = f\"\"\"\n",
        "<function_results>\n",
        "  <result>\n",
        "    <tool_name>get_stock_price</tool_name>\n",
        "    <stdout>{price}</stdout>\n",
        "  </result>\n",
        "</function_results>\"\"\""
      ],
      "metadata": {
        "id": "R2TNjlO1S7Se"
      },
      "execution_count": 15,
      "outputs": []
    },
    {
      "cell_type": "code",
      "source": [
        "# 5. Send all messages back to Claude\n",
        "partial_assistant_message = function_calling_message + function_results"
      ],
      "metadata": {
        "id": "WHXxxXyyS7O-"
      },
      "execution_count": 16,
      "outputs": []
    },
    {
      "cell_type": "code",
      "source": [
        "final_message = client.messages.create(model = MODEL_NAME,\n",
        "                                       max_tokens = 1024,\n",
        "                                       messages=[stock_message,\n",
        "                                        {\n",
        "                                            \"role\": \"assistant\",\n",
        "                                            \"content\": partial_assistant_message\n",
        "                                        }\n",
        "                                                 ],\n",
        "                                       system=system_prompt\n",
        "                                       ).content[0].text"
      ],
      "metadata": {
        "id": "V6cTXuxmTOgu"
      },
      "execution_count": 17,
      "outputs": []
    },
    {
      "cell_type": "code",
      "source": [
        "print(\"\\n\\n##### After Function Calling #####\"+ final_message)"
      ],
      "metadata": {
        "colab": {
          "base_uri": "https://localhost:8080/",
          "height": 97
        },
        "id": "7JnuKwYGTOdP",
        "outputId": "d928b3ca-1bd0-4dc4-e10b-3820371e37e0"
      },
      "execution_count": 19,
      "outputs": [
        {
          "output_type": "display_data",
          "data": {
            "text/plain": [
              "\n",
              "\n",
              "##### After Function Calling #####\n",
              "\n",
              "To find the current price of Apple stock, I used the get_stock_price tool, passing in \u001b[32m'AAPL'\u001b[0m as the ticker symbol \n",
              "for Apple. The tool returned the current price of $\u001b[1;36m169.0\u001b[0m.\n"
            ],
            "text/html": [
              "<pre style=\"white-space:pre;overflow-x:auto;line-height:normal;font-family:Menlo,'DejaVu Sans Mono',consolas,'Courier New',monospace\">\n",
              "\n",
              "##### After Function Calling #####\n",
              "\n",
              "To find the current price of Apple stock, I used the get_stock_price tool, passing in <span style=\"color: #008000; text-decoration-color: #008000\">'AAPL'</span> as the ticker symbol \n",
              "for Apple. The tool returned the current price of $<span style=\"color: #008080; text-decoration-color: #008080; font-weight: bold\">169.0</span>.\n",
              "</pre>\n"
            ]
          },
          "metadata": {}
        }
      ]
    },
    {
      "cell_type": "code",
      "source": [],
      "metadata": {
        "id": "qo1BX8AtTObS"
      },
      "execution_count": null,
      "outputs": []
    },
    {
      "cell_type": "code",
      "source": [],
      "metadata": {
        "id": "n0pU5O7PTOY7"
      },
      "execution_count": null,
      "outputs": []
    }
  ]
}